{
 "cells": [
  {
   "cell_type": "code",
   "execution_count": 1,
   "id": "5088cae2-393d-4e39-beea-e9e3e23f7af6",
   "metadata": {},
   "outputs": [
    {
     "name": "stdout",
     "output_type": "stream",
     "text": [
      "Gourav\n"
     ]
    }
   ],
   "source": [
    "                            # Practical Questions\n",
    "#1.  Write a code to create a string with your name and print it\n",
    "user_name = \"Gourav\"\n",
    "print(user_name)"
   ]
  },
  {
   "cell_type": "code",
   "execution_count": 3,
   "id": "d1e547bd-99f1-4540-b5cd-bd07dcf7d607",
   "metadata": {},
   "outputs": [
    {
     "data": {
      "text/plain": [
       "str"
      ]
     },
     "execution_count": 3,
     "metadata": {},
     "output_type": "execute_result"
    }
   ],
   "source": [
    "type(user_name)"
   ]
  },
  {
   "cell_type": "code",
   "execution_count": 16,
   "id": "f5dd80c4-534a-4573-aee4-5f266036efe9",
   "metadata": {},
   "outputs": [
    {
     "data": {
      "text/plain": [
       "11"
      ]
     },
     "execution_count": 16,
     "metadata": {},
     "output_type": "execute_result"
    }
   ],
   "source": [
    "#2. Write a code to find the length of the string \"Hello World\"\n",
    "s = \"Hello World\"\n",
    "len(s)"
   ]
  },
  {
   "cell_type": "code",
   "execution_count": null,
   "id": "612f096f-8239-4f32-af54-5eeeb88c45cf",
   "metadata": {},
   "outputs": [],
   "source": [
    "#3. Write a code to slice the first 3 characters from the string \"Python Programming\""
   ]
  },
  {
   "cell_type": "code",
   "execution_count": 20,
   "id": "b758679e-a320-4747-a54b-5dcd348d54fd",
   "metadata": {},
   "outputs": [
    {
     "data": {
      "text/plain": [
       "'Pyt'"
      ]
     },
     "execution_count": 20,
     "metadata": {},
     "output_type": "execute_result"
    }
   ],
   "source": [
    "string = \"Python Programming\"\n",
    "string[0:3]"
   ]
  },
  {
   "cell_type": "code",
   "execution_count": 32,
   "id": "6136bc17-3ab0-4277-80ac-daf2d7b32bc7",
   "metadata": {},
   "outputs": [
    {
     "data": {
      "text/plain": [
       "'HELLO'"
      ]
     },
     "execution_count": 32,
     "metadata": {},
     "output_type": "execute_result"
    }
   ],
   "source": [
    "#4.Write a code to convert the string \"hello\" to uppercase\n",
    "text = \"hello\"\n",
    "text.upper()"
   ]
  },
  {
   "cell_type": "code",
   "execution_count": 53,
   "id": "df5dff80-f06f-4ac6-b87b-bb84038770e8",
   "metadata": {},
   "outputs": [
    {
     "data": {
      "text/plain": [
       "' I like orange'"
      ]
     },
     "execution_count": 53,
     "metadata": {},
     "output_type": "execute_result"
    }
   ],
   "source": [
    "#5.Write a code to replace the word \"apple\" with \"orange\" in the string \"I like apple\"\n",
    "text = \" I like apple\"\n",
    "text.replace(\"apple\", \"orange\")"
   ]
  },
  {
   "cell_type": "code",
   "execution_count": 107,
   "id": "7cf9588f-f6ad-4b6b-9e3c-ea4036ead557",
   "metadata": {},
   "outputs": [
    {
     "data": {
      "text/plain": [
       "[1, 2, 3, 4, 5]"
      ]
     },
     "execution_count": 107,
     "metadata": {},
     "output_type": "execute_result"
    }
   ],
   "source": [
    "#6.Write a code to create a list with numbers 1 to 5 and print it.\n",
    "list(range(1, 6))\n"
   ]
  },
  {
   "cell_type": "code",
   "execution_count": 115,
   "id": "44f5b66a-e43a-4481-9257-08e3a5c84a70",
   "metadata": {},
   "outputs": [
    {
     "name": "stdout",
     "output_type": "stream",
     "text": [
      "1\n",
      "2\n",
      "3\n",
      "4\n",
      "5\n"
     ]
    }
   ],
   "source": [
    "for i in range(1, 6):\n",
    "    print(i)"
   ]
  },
  {
   "cell_type": "code",
   "execution_count": 121,
   "id": "77375cca-440b-45bd-b280-002cabe07b4e",
   "metadata": {},
   "outputs": [
    {
     "name": "stdout",
     "output_type": "stream",
     "text": [
      "[1, 2, 3, 4, 10]\n"
     ]
    }
   ],
   "source": [
    "#7.Write a code to append the number 10 to the list [1, 2, 3, 4]\n",
    "my_list = [1, 2, 3, 4]\n",
    "my_list.append(10)\n",
    "print(my_list)"
   ]
  },
  {
   "cell_type": "code",
   "execution_count": 125,
   "id": "4117f8a2-bcfc-40a4-8d3b-25c328f4797a",
   "metadata": {},
   "outputs": [
    {
     "name": "stdout",
     "output_type": "stream",
     "text": [
      "[1, 2, 4, 5]\n"
     ]
    }
   ],
   "source": [
    "#8. Write a code to remove the number 3 from the list [1, 2, 3, 4, 5]\n",
    "my_list = [1, 2, 3, 4, 5]\n",
    "my_list.remove(3)\n",
    "print(my_list)"
   ]
  },
  {
   "cell_type": "code",
   "execution_count": 129,
   "id": "8729d72e-a109-4730-ad5e-7746e5d15f2c",
   "metadata": {},
   "outputs": [
    {
     "data": {
      "text/plain": [
       "'b'"
      ]
     },
     "execution_count": 129,
     "metadata": {},
     "output_type": "execute_result"
    }
   ],
   "source": [
    "#9. Write a code to access the second element in the list ['a', 'b', 'c', 'd']\n",
    "my_list = ['a','b','c','d']\n",
    "my_list[1]"
   ]
  },
  {
   "cell_type": "code",
   "execution_count": 151,
   "id": "2fb258b4-d753-45ee-af57-1f3550579704",
   "metadata": {},
   "outputs": [
    {
     "data": {
      "text/plain": [
       "[50, 40, 30, 20, 10]"
      ]
     },
     "execution_count": 151,
     "metadata": {},
     "output_type": "execute_result"
    }
   ],
   "source": [
    "#10.Write a code to reverse the list [10, 20, 30, 40, 50].\n",
    "my_list = [10, 20, 30, 40, 50]\n",
    "my_list[::-1]"
   ]
  },
  {
   "cell_type": "code",
   "execution_count": 169,
   "id": "1d5cb682-10b2-4a23-932a-92bcf4e8accd",
   "metadata": {},
   "outputs": [
    {
     "name": "stdout",
     "output_type": "stream",
     "text": [
      "(100, 200, 300)\n"
     ]
    }
   ],
   "source": [
    "#11.Write a code to create a tuple with the elements 100, 200, 300 and print it.\n",
    "s = (100, 200, 300)\n",
    "print(s) \n"
   ]
  },
  {
   "cell_type": "code",
   "execution_count": 171,
   "id": "c8e6ca6a-be63-49d7-a445-8d32dcf6f258",
   "metadata": {},
   "outputs": [
    {
     "data": {
      "text/plain": [
       "tuple"
      ]
     },
     "execution_count": 171,
     "metadata": {},
     "output_type": "execute_result"
    }
   ],
   "source": [
    "type(s)"
   ]
  },
  {
   "cell_type": "code",
   "execution_count": 209,
   "id": "f6631672-2acd-4926-9179-ecb7f500cbed",
   "metadata": {},
   "outputs": [
    {
     "data": {
      "text/plain": [
       "tuple"
      ]
     },
     "execution_count": 209,
     "metadata": {},
     "output_type": "execute_result"
    }
   ],
   "source": [
    "#12.Write a code to access the second-to-last element of the tuple ('red', 'green', 'blue', 'yellow').\n",
    "t = ('red','green','blue','yellow')\n",
    "type(t)"
   ]
  },
  {
   "cell_type": "code",
   "execution_count": 196,
   "id": "bd01922d-35a0-43b8-bbb8-9ccbcf1797b1",
   "metadata": {},
   "outputs": [
    {
     "data": {
      "text/plain": [
       "'blue'"
      ]
     },
     "execution_count": 196,
     "metadata": {},
     "output_type": "execute_result"
    }
   ],
   "source": [
    "t[-2]"
   ]
  },
  {
   "cell_type": "code",
   "execution_count": 203,
   "id": "f69f9f19-8318-4894-88e5-eafa3b52367b",
   "metadata": {},
   "outputs": [
    {
     "data": {
      "text/plain": [
       "5"
      ]
     },
     "execution_count": 203,
     "metadata": {},
     "output_type": "execute_result"
    }
   ],
   "source": [
    "#13.Write a code to find the minimum number in the tuple (10, 20, 5, 15).\n",
    "my_tuple = (10, 20, 5, 15)\n",
    "min(my_tuple)\n"
   ]
  },
  {
   "cell_type": "code",
   "execution_count": 207,
   "id": "9694be4a-c81a-41d9-87ef-f2d61347ca84",
   "metadata": {},
   "outputs": [
    {
     "data": {
      "text/plain": [
       "'cat'"
      ]
     },
     "execution_count": 207,
     "metadata": {},
     "output_type": "execute_result"
    }
   ],
   "source": [
    "#14.Write a code to find the index of the element \"cat\" in the tuple ('dog', 'cat', 'rabbit').\n",
    "my_tuple = ('dog','cat','rabbit')\n",
    "my_tuple[1]\n"
   ]
  },
  {
   "cell_type": "code",
   "execution_count": 219,
   "id": "d8e81a23-c26c-4568-b272-f4c7941cb93d",
   "metadata": {},
   "outputs": [
    {
     "name": "stdout",
     "output_type": "stream",
     "text": [
      "True\n"
     ]
    }
   ],
   "source": [
    "#15. Write a code to create a tuple containing three different fruits and check if \"kiwi\" is in it.\n",
    "my_fruits = (\"Mango\", \"banana\", \"Kiwi\")\n",
    "if \"Kiwi\" in my_fruits:\n",
    "    print(\"True\")\n",
    "else:\n",
    "    print(\"False\")"
   ]
  },
  {
   "cell_type": "code",
   "execution_count": 227,
   "id": "736db797-f762-4ad7-8037-0d2376a98c92",
   "metadata": {},
   "outputs": [
    {
     "name": "stdout",
     "output_type": "stream",
     "text": [
      "{'a', 'b', 'c'}\n"
     ]
    }
   ],
   "source": [
    "#16. Write a code to create a set with the elements 'a', 'b', 'c' and print it.\n",
    "s = {'a', 'b', 'c'}\n",
    "print(s)"
   ]
  },
  {
   "cell_type": "code",
   "execution_count": 229,
   "id": "8734a88a-b9c5-4083-b509-63402fa1e27d",
   "metadata": {},
   "outputs": [
    {
     "data": {
      "text/plain": [
       "set"
      ]
     },
     "execution_count": 229,
     "metadata": {},
     "output_type": "execute_result"
    }
   ],
   "source": [
    "type(s)"
   ]
  },
  {
   "cell_type": "code",
   "execution_count": 239,
   "id": "5a26a4bd-51dd-436c-b9da-6b556b1d9f54",
   "metadata": {},
   "outputs": [],
   "source": [
    "#17.Write a code to clear all elements from the set {1, 2, 3, 4, 5}.\n",
    "my_set = {1, 2, 3, 4, 5}\n",
    "my_set.clear()"
   ]
  },
  {
   "cell_type": "code",
   "execution_count": 241,
   "id": "c6c12b3c-0248-44ac-a34a-aadb7c732c94",
   "metadata": {},
   "outputs": [
    {
     "data": {
      "text/plain": [
       "set()"
      ]
     },
     "execution_count": 241,
     "metadata": {},
     "output_type": "execute_result"
    }
   ],
   "source": [
    "my_set"
   ]
  },
  {
   "cell_type": "code",
   "execution_count": 243,
   "id": "e45d7aba-0e1d-4f56-962a-01d5e46641a3",
   "metadata": {},
   "outputs": [],
   "source": [
    "#18.Write a code to remove the element 4 from the set {1, 2, 3, 4}\n",
    "my_set = {1, 2, 3, 4}\n",
    "my_set.remove(4)"
   ]
  },
  {
   "cell_type": "code",
   "execution_count": 245,
   "id": "d0c29e60-ee55-4922-86ac-ca406a8b18de",
   "metadata": {},
   "outputs": [
    {
     "data": {
      "text/plain": [
       "{1, 2, 3}"
      ]
     },
     "execution_count": 245,
     "metadata": {},
     "output_type": "execute_result"
    }
   ],
   "source": [
    "my_set"
   ]
  },
  {
   "cell_type": "code",
   "execution_count": 247,
   "id": "a1a524b1-3a66-4c22-a807-77a921f452db",
   "metadata": {},
   "outputs": [
    {
     "name": "stdout",
     "output_type": "stream",
     "text": [
      "{1, 2, 3, 4, 5}\n"
     ]
    }
   ],
   "source": [
    "#19.Write a code to find the union of two sets {1, 2, 3} and {3, 4, 5}.\n",
    "set1 = {1, 2, 3}\n",
    "set2 = {3, 4, 5}\n",
    "union_set = set1|set2\n",
    "print(union_set)\n",
    "\n"
   ]
  },
  {
   "cell_type": "code",
   "execution_count": 249,
   "id": "626ce812-b568-48c6-b2cc-1baedfa1e860",
   "metadata": {},
   "outputs": [
    {
     "data": {
      "text/plain": [
       "{2, 3}"
      ]
     },
     "execution_count": 249,
     "metadata": {},
     "output_type": "execute_result"
    }
   ],
   "source": [
    "#20. Write a code to find the intersection of two sets {1, 2, 3} and {2, 3, 4}\n",
    "set1 = {1, 2, 3}\n",
    "set2 = {2, 3, 4}\n",
    "set1&set2"
   ]
  },
  {
   "cell_type": "code",
   "execution_count": 259,
   "id": "a7b45e1b-66cb-4be5-a0a0-fd9ea795a5b6",
   "metadata": {},
   "outputs": [],
   "source": [
    "#21. Write a code to create a dictionary with the keys \"name\", \"age\", and \"city\", and print it.\n",
    "my_dict = {\"name\":\"Gourav\", \"age\":19,\"city\":\"Guwahati\"}\n"
   ]
  },
  {
   "cell_type": "code",
   "execution_count": 261,
   "id": "139d3514-28ca-4b01-b379-270858b3dda1",
   "metadata": {},
   "outputs": [
    {
     "data": {
      "text/plain": [
       "{'name': 'Gourav', 'age': 19, 'city': 'Guwahati'}"
      ]
     },
     "execution_count": 261,
     "metadata": {},
     "output_type": "execute_result"
    }
   ],
   "source": [
    "my_dict"
   ]
  },
  {
   "cell_type": "code",
   "execution_count": 267,
   "id": "a83789c9-a77f-439e-a9b2-15ec5dc26e8d",
   "metadata": {},
   "outputs": [
    {
     "data": {
      "text/plain": [
       "dict"
      ]
     },
     "execution_count": 267,
     "metadata": {},
     "output_type": "execute_result"
    }
   ],
   "source": [
    "type(my_dict)"
   ]
  },
  {
   "cell_type": "code",
   "execution_count": 275,
   "id": "e37fb6f9-3147-481c-bee6-176755774a89",
   "metadata": {},
   "outputs": [],
   "source": [
    "#22.Write a code to add a new key-value pair \"country\": \"USA\" to the dictionary {'name': 'John', 'age': 25}.\n",
    "my_dict = {'name':'john','age':25}\n",
    "my_dict[\"country\"] = \"Banglore\""
   ]
  },
  {
   "cell_type": "code",
   "execution_count": 278,
   "id": "b7feeabd-6905-4426-839f-cd1752022239",
   "metadata": {},
   "outputs": [
    {
     "data": {
      "text/plain": [
       "{'name': 'john', 'age': 25, 'country': 'Banglore'}"
      ]
     },
     "execution_count": 278,
     "metadata": {},
     "output_type": "execute_result"
    }
   ],
   "source": [
    "my_dict "
   ]
  },
  {
   "cell_type": "code",
   "execution_count": 290,
   "id": "83f48309-cf5a-4b63-b3df-43c9786689af",
   "metadata": {},
   "outputs": [
    {
     "data": {
      "text/plain": [
       "'Alice'"
      ]
     },
     "execution_count": 290,
     "metadata": {},
     "output_type": "execute_result"
    }
   ],
   "source": [
    "#23.Write a code to access the value associated with the key \"name\" in the dictionary {'name': 'Alice', 'age': 30}.\n",
    "my_dict = {'name':'Alice','age':30}\n",
    "my_dict.get('name')"
   ]
  },
  {
   "cell_type": "code",
   "execution_count": 305,
   "id": "30d2c43f-1fb8-44cb-a53d-278bedcf88e4",
   "metadata": {},
   "outputs": [
    {
     "data": {
      "text/plain": [
       "22"
      ]
     },
     "execution_count": 305,
     "metadata": {},
     "output_type": "execute_result"
    }
   ],
   "source": [
    "#24. Write a code to remove the key \"age\" from the dictionary {'name': 'Bob', 'age': 22, 'city': 'New York'}.\n",
    "my_dict = {'name': 'Bob', 'age': 22, 'city': 'New York'}\n",
    "my_dict.pop('age')"
   ]
  },
  {
   "cell_type": "code",
   "execution_count": 308,
   "id": "ca7ee4c5-36a6-4ff8-8261-f58c08c1bb9c",
   "metadata": {},
   "outputs": [
    {
     "data": {
      "text/plain": [
       "{'name': 'Bob', 'city': 'New York'}"
      ]
     },
     "execution_count": 308,
     "metadata": {},
     "output_type": "execute_result"
    }
   ],
   "source": [
    "my_dict"
   ]
  },
  {
   "cell_type": "code",
   "execution_count": 312,
   "id": "4b54e5d8-903f-4944-9f46-e4e5cd4db434",
   "metadata": {},
   "outputs": [
    {
     "name": "stdout",
     "output_type": "stream",
     "text": [
      "True\n"
     ]
    }
   ],
   "source": [
    "#25.Write a code to check if the key \"city\" exists in the dictionary {'name': 'Alice', 'city': 'Paris'}\n",
    "my_dict = {'name': 'Alice', 'city': 'Paris'}\n",
    "if 'city' in my_dict:\n",
    "    print(\"True\")\n",
    "else:\n",
    "    print(\"False\")\n"
   ]
  },
  {
   "cell_type": "code",
   "execution_count": 324,
   "id": "b7410386-8b8b-4e1a-9a49-a671c3ae6f03",
   "metadata": {},
   "outputs": [
    {
     "name": "stdout",
     "output_type": "stream",
     "text": [
      "[1, 2, 3, 4, 5]\n",
      "(1, 2, 'raj', 'nabiul', 'True')\n",
      "{'name': 'iqbal', 'age': 19, 'profession': 'student'}\n"
     ]
    }
   ],
   "source": [
    "#26. Write a code to create a list, a tuple, and a dictionary, and print them all.\n",
    "my_list = [1, 2, 3, 4, 5]\n",
    "print(my_list)\n",
    "t = (1, 2,\"raj\",\"nabiul\",\"True\")\n",
    "print(t)\n",
    "my_dict = {\"name\":\"iqbal\",\"age\":19,\"profession\":\"student\"}\n",
    "print(my_dict)"
   ]
  },
  {
   "cell_type": "code",
   "execution_count": 340,
   "id": "c60f0c35-73ad-4fb4-8ec9-f1127300dbc2",
   "metadata": {},
   "outputs": [
    {
     "name": "stdout",
     "output_type": "stream",
     "text": [
      "[13, 41, 44, 51, 77]\n"
     ]
    }
   ],
   "source": [
    "#27. Write a code to create a list of 5 random numbers between 1 and 100, sort it in ascending order, and print the result.(replaced)\n",
    "import random\n",
    "random_list = random.sample(range(0, 101),5)\n",
    "random_list.sort()\n",
    "print(random_list, sep = \".\")\n"
   ]
  },
  {
   "cell_type": "code",
   "execution_count": 1,
   "id": "94198769-4f84-4d7c-88c5-4e4bc6f9a94d",
   "metadata": {},
   "outputs": [
    {
     "name": "stdout",
     "output_type": "stream",
     "text": [
      "iqbal\n"
     ]
    }
   ],
   "source": [
    "#28. Write a code to create a list with strings and print the element at the third index.\n",
    "my_list = [\"gourab\",\"vivek\",\"iqbal\"]\n",
    "print(my_list[2])"
   ]
  },
  {
   "cell_type": "code",
   "execution_count": 3,
   "id": "b6f8075c-c9b2-474f-b5e4-681a2213d39d",
   "metadata": {},
   "outputs": [
    {
     "data": {
      "text/plain": [
       "list"
      ]
     },
     "execution_count": 3,
     "metadata": {},
     "output_type": "execute_result"
    }
   ],
   "source": [
    "type(my_list)"
   ]
  },
  {
   "cell_type": "code",
   "execution_count": 36,
   "id": "7960dac6-d848-4e3b-88e8-8512e329e3aa",
   "metadata": {},
   "outputs": [],
   "source": [
    "#29.Write a code to combine two dictionaries into one and print the result.\n",
    "my_dict1 = {\"word\":\"play\",\"fruit\":\"orange\",\"name\":\"prashant\"}\n",
    "my_dict2 = {\"country\":\"USA\",\"city\":\"guwahati\",\"landmark\":\"bharalu view\"}\n",
    "my_dict1.update(my_dict2)\n"
   ]
  },
  {
   "cell_type": "code",
   "execution_count": 38,
   "id": "1f90ef3a-7067-407f-98b1-f7a8b0e78118",
   "metadata": {
    "jp-MarkdownHeadingCollapsed": true
   },
   "outputs": [
    {
     "name": "stdout",
     "output_type": "stream",
     "text": [
      "{'word': 'play', 'fruit': 'orange', 'name': 'prashant', 'country': 'USA', 'city': 'guwahati', 'landmark': 'bharalu view'}\n"
     ]
    }
   ],
   "source": [
    "print(my_dict1)\n"
   ]
  },
  {
   "cell_type": "code",
   "execution_count": 54,
   "id": "92c4951d-2694-47d4-a2e6-1c979babae4d",
   "metadata": {},
   "outputs": [
    {
     "data": {
      "text/plain": [
       "list"
      ]
     },
     "execution_count": 54,
     "metadata": {},
     "output_type": "execute_result"
    }
   ],
   "source": [
    "#30. Write a code to convert a list of strings into a set\n",
    "my_list = ['gourab', 'vivek', 'iqbal']\n",
    "type(my_list)"
   ]
  },
  {
   "cell_type": "code",
   "execution_count": 48,
   "id": "16f8cb79-2cf9-44e7-ad14-dd4c5e783e6d",
   "metadata": {},
   "outputs": [],
   "source": [
    "s = set(my_list)"
   ]
  },
  {
   "cell_type": "code",
   "execution_count": 50,
   "id": "20ad8bfe-7bd2-4715-8c2d-20e8d0b56b5f",
   "metadata": {},
   "outputs": [
    {
     "data": {
      "text/plain": [
       "set"
      ]
     },
     "execution_count": 50,
     "metadata": {},
     "output_type": "execute_result"
    }
   ],
   "source": [
    "type(s)"
   ]
  },
  {
   "cell_type": "code",
   "execution_count": 52,
   "id": "68b6dc45-3522-46d9-8a0f-382cb300b3ad",
   "metadata": {},
   "outputs": [
    {
     "data": {
      "text/plain": [
       "['gourab', 'vivek', 'iqbal']"
      ]
     },
     "execution_count": 52,
     "metadata": {},
     "output_type": "execute_result"
    }
   ],
   "source": [
    "my_list"
   ]
  },
  {
   "cell_type": "code",
   "execution_count": 56,
   "id": "5390ce9a-d085-4c1d-afcb-fdf5a7fdf07d",
   "metadata": {},
   "outputs": [],
   "source": [
    "\n",
    "                                         #THEORITICAL QUESTIONS"
   ]
  },
  {
   "cell_type": "code",
   "execution_count": 64,
   "id": "924195cc-c934-4bb6-832f-17f6cd1089fe",
   "metadata": {},
   "outputs": [
    {
     "data": {
      "text/plain": [
       "'\\nData structures are specialized formats that are important for organizing and collection of data and to access all types of data.\\nThey are important beacuse choosing the right data srtucture improves and manages the data efficiently.\\n'"
      ]
     },
     "execution_count": 64,
     "metadata": {},
     "output_type": "execute_result"
    }
   ],
   "source": [
    "#1.What are data structures and why they are important?\n",
    "'''\n",
    "Data structures are specialized formats that are important for organizing and collection of data and to access all types of data.\n",
    "They are important beacuse choosing the right data srtucture improves and manages the data efficiently.\n",
    "'''\n"
   ]
  },
  {
   "cell_type": "code",
   "execution_count": 66,
   "id": "0b8b9c10-851e-42bb-95c3-12965aeb4537",
   "metadata": {},
   "outputs": [],
   "source": [
    "#2. Explain the difference between mutable and immutable data types with examples\n",
    "#Mutable data types are the data types that can be changed from one type to another. for ex-\n",
    "my_lists = [1, 2, 3, 4, 5]\n",
    "my_lists[0] = 4"
   ]
  },
  {
   "cell_type": "code",
   "execution_count": 68,
   "id": "99d155ef-b463-4ffd-bd89-4c571b4ad489",
   "metadata": {},
   "outputs": [
    {
     "data": {
      "text/plain": [
       "[4, 2, 3, 4, 5]"
      ]
     },
     "execution_count": 68,
     "metadata": {},
     "output_type": "execute_result"
    }
   ],
   "source": [
    "my_lists"
   ]
  },
  {
   "cell_type": "code",
   "execution_count": 76,
   "id": "54ab4cde-e370-4fe4-9b74-bfdf7aef0a07",
   "metadata": {},
   "outputs": [
    {
     "ename": "TypeError",
     "evalue": "'tuple' object does not support item assignment",
     "output_type": "error",
     "traceback": [
      "\u001b[1;31m---------------------------------------------------------------------------\u001b[0m",
      "\u001b[1;31mTypeError\u001b[0m                                 Traceback (most recent call last)",
      "Cell \u001b[1;32mIn[76], line 3\u001b[0m\n\u001b[0;32m      1\u001b[0m \u001b[38;5;66;03m#Immutable data types are the data types which cannot be changed and are for special reasons.For ex-\u001b[39;00m\n\u001b[0;32m      2\u001b[0m my_tuple \u001b[38;5;241m=\u001b[39m(\u001b[38;5;241m1\u001b[39m, \u001b[38;5;241m2\u001b[39m, \u001b[38;5;241m3\u001b[39m, \u001b[38;5;241m4\u001b[39m, \u001b[38;5;241m5\u001b[39m)\n\u001b[1;32m----> 3\u001b[0m my_tuple[\u001b[38;5;241m0\u001b[39m] \u001b[38;5;241m=\u001b[39m \u001b[38;5;241m3\u001b[39m\n",
      "\u001b[1;31mTypeError\u001b[0m: 'tuple' object does not support item assignment"
     ]
    }
   ],
   "source": [
    "#Immutable data types are the data types which cannot be changed and are for special reasons.For ex-\n",
    "my_tuple =(1, 2, 3, 4, 5)\n",
    "my_tuple[0] = 3"
   ]
  },
  {
   "cell_type": "code",
   "execution_count": 78,
   "id": "26d8386a-f072-4211-9e10-7ec79625a0e0",
   "metadata": {},
   "outputs": [
    {
     "data": {
      "text/plain": [
       "'\\n The main differences between lists and tuples are as follows:\\n Lists are mutable whereas tuples are immutable.\\n Lists are defined as [] whereas tuples are defined as()\\n Lists are usually used when we neeed to change data type and tuples are used when we need not want to change the data type\\n '"
      ]
     },
     "execution_count": 78,
     "metadata": {},
     "output_type": "execute_result"
    }
   ],
   "source": [
    "#3.What are the main differences between lists and tuples in Python?\n",
    "'''\n",
    " The main differences between lists and tuples are as follows:\n",
    " Lists are mutable whereas tuples are immutable.\n",
    " Lists are defined as [] whereas tuples are defined as()\n",
    " Lists are usually used when we neeed to change data type and tuples are used when we need not want to change the data type\n",
    " '''"
   ]
  },
  {
   "cell_type": "code",
   "execution_count": 80,
   "id": "535db536-e7db-4d5f-b996-340cf32db51f",
   "metadata": {},
   "outputs": [
    {
     "data": {
      "text/plain": [
       "'\\n Dictionaries store data  with the help of key value pairs such as {\"name\":\"gourab\"}\\n A data structure that provides fast access to data using keys.\\n'"
      ]
     },
     "execution_count": 80,
     "metadata": {},
     "output_type": "execute_result"
    }
   ],
   "source": [
    "#4. Describe how dictionaries store data?\n",
    "'''\n",
    " Dictionaries store data  with the help of key value pairs such as {\"name\":\"gourab\"}\n",
    " A data structure that provides fast access to data using keys.\n",
    "'''"
   ]
  },
  {
   "cell_type": "code",
   "execution_count": 84,
   "id": "2b3edefa-c379-434e-ae17-b6641c6ef515",
   "metadata": {},
   "outputs": [
    {
     "data": {
      "text/plain": [
       "\"\\n The reasons to use a set are as follows:\\n a.When you need unique items.\\n b.When you want fast lookups.\\n c.When order of items doesn't matter.\\n\""
      ]
     },
     "execution_count": 84,
     "metadata": {},
     "output_type": "execute_result"
    }
   ],
   "source": [
    "#5. Why might you use a set instead of a list in Python\n",
    "'''\n",
    " The reasons to use a set are as follows:\n",
    " a.When you need unique items.\n",
    " b.When you want fast lookups.\n",
    " c.When order of items doesn't matter.\n",
    "'''\n"
   ]
  },
  {
   "cell_type": "code",
   "execution_count": 88,
   "id": "6fab076c-2524-452e-ad9c-6920bf03f50c",
   "metadata": {},
   "outputs": [
    {
     "data": {
      "text/plain": [
       "'\\nStrings in python are a sequence of characters and lists are a sequence of any type of objects\\nStrings are immutable but lists are mutable.\\nStrings are homogenous whereas lists are heterogenous.\\n'"
      ]
     },
     "execution_count": 88,
     "metadata": {},
     "output_type": "execute_result"
    }
   ],
   "source": [
    "#6. What is a string in Python, and how is it different from a list?\n",
    "'''\n",
    "Strings in python are a sequence of characters and lists are a sequence of any type of objects\n",
    "Strings are immutable but lists are mutable.\n",
    "Strings are homogenous whereas lists are heterogenous.\n",
    "'''"
   ]
  },
  {
   "cell_type": "code",
   "execution_count": 90,
   "id": "0e72099e-ea1f-4116-8c31-be54b545d1f9",
   "metadata": {},
   "outputs": [
    {
     "data": {
      "text/plain": [
       "'\\nTuples are immutable so it prevents accidental or intentional modification\\nIt is hashable if all their elements are hashable, it enables use in sets as dicts keys safely\\nIt has a fixed structure and ensures consistent shape and meaning of data.\\n'"
      ]
     },
     "execution_count": 90,
     "metadata": {},
     "output_type": "execute_result"
    }
   ],
   "source": [
    "#7. How do tuples ensure data integrity in Python\n",
    "'''\n",
    "Tuples are immutable so it prevents accidental or intentional modification\n",
    "It is hashable if all their elements are hashable, it enables use in sets as dicts keys safely\n",
    "It has a fixed structure and ensures consistent shape and meaning of data.\n",
    "'''"
   ]
  },
  {
   "cell_type": "code",
   "execution_count": 92,
   "id": "f79a17f7-2637-4653-a5de-ef74ffd2f89e",
   "metadata": {},
   "outputs": [
    {
     "data": {
      "text/plain": [
       "\"\\nA hash table is a data structure that allows for fast storage, retrieval, and deletion of data using key-value pairs. It’s the theoretical foundation behind Python's dict (dictionary) type.\\n\""
      ]
     },
     "execution_count": 92,
     "metadata": {},
     "output_type": "execute_result"
    }
   ],
   "source": [
    "#8. What is a hash table, and how does it relate to dictionaries in Python?\n",
    "'''\n",
    "A hash table is a data structure that allows for fast storage, retrieval, and deletion of data using key-value pairs. It’s the theoretical foundation behind Python's dict (dictionary) type.\n",
    "'''"
   ]
  },
  {
   "cell_type": "code",
   "execution_count": 94,
   "id": "9b04b45a-f46d-4a47-ac05-49a220cca04d",
   "metadata": {},
   "outputs": [
    {
     "data": {
      "text/plain": [
       "'\\nYes, lists in Python can contain different data types.\\n\\nPython lists are heterogeneous, meaning you can store elements of any type—numbers, strings, objects, even other lists—all in the same list.\\n'"
      ]
     },
     "execution_count": 94,
     "metadata": {},
     "output_type": "execute_result"
    }
   ],
   "source": [
    "#9.Can lists contain different data types in Python?\n",
    "'''\n",
    "Yes, lists in Python can contain different data types.\n",
    "\n",
    "Python lists are heterogeneous, meaning you can store elements of any type—numbers, strings, objects, even other lists—all in the same list.\n",
    "'''\n"
   ]
  },
  {
   "cell_type": "code",
   "execution_count": 96,
   "id": "52bfdd08-044f-4d52-ab0d-0713bb46c35d",
   "metadata": {},
   "outputs": [
    {
     "data": {
      "text/plain": [
       "'\\nStrings are immutable in python because, if strings were mutable, changing the value would make \\ntheir hash invalid and break the dictionary.\\n'"
      ]
     },
     "execution_count": 96,
     "metadata": {},
     "output_type": "execute_result"
    }
   ],
   "source": [
    "#10. Explain why strings are immutable in Python?\n",
    "'''\n",
    "Strings are immutable in python because, if strings were mutable, changing the value would make \n",
    "their hash invalid and break the dictionary.\n",
    "'''\n"
   ]
  },
  {
   "cell_type": "code",
   "execution_count": 98,
   "id": "07a21d9a-cc37-484b-a1e8-fee02666d7b4",
   "metadata": {},
   "outputs": [
    {
     "data": {
      "text/plain": [
       "'\\nDictionaries offer some advantages over lists that are as follows:\\na. Fast lookups by key.\\nb. Clearer code with named keys.\\nc. Flexible data organization.\\n'"
      ]
     },
     "execution_count": 98,
     "metadata": {},
     "output_type": "execute_result"
    }
   ],
   "source": [
    "#11.What advantages do dictionaries offer over lists for certain tasks?\n",
    "'''\n",
    "Dictionaries offer some advantages over lists that are as follows:\n",
    "a. Fast lookups by key.\n",
    "b. Clearer code with named keys.\n",
    "c. Flexible data organization.\n",
    "'''\n"
   ]
  },
  {
   "cell_type": "code",
   "execution_count": 100,
   "id": "274ec946-8fd2-486f-91f3-9416707592d1",
   "metadata": {},
   "outputs": [
    {
     "data": {
      "text/plain": [
       "'\\nA tuple is preferable over a list when you need a fixed, unchangeable collection of values — especially when the data is:\\nLogically grouped together\\nShould not be modified\\nNeeds to be hashable (e.g., usable as a dictionary key)\\n'"
      ]
     },
     "execution_count": 100,
     "metadata": {},
     "output_type": "execute_result"
    }
   ],
   "source": [
    "#12. Describe a scenario where using a tuple would be preferable over a list\n",
    "'''\n",
    "A tuple is preferable over a list when you need a fixed, unchangeable collection of values — especially when the data is:\n",
    "Logically grouped together\n",
    "Should not be modified\n",
    "Needs to be hashable (e.g., usable as a dictionary key)\n",
    "'''"
   ]
  },
  {
   "cell_type": "code",
   "execution_count": 104,
   "id": "12764149-3708-4089-93f2-30ec656ebe32",
   "metadata": {},
   "outputs": [
    {
     "data": {
      "text/plain": [
       "'\\nIn Python, sets automatically eliminate duplicate values. When you add elements to a set,\\nonly unique values are kept—any duplicates are ignored.\\n'"
      ]
     },
     "execution_count": 104,
     "metadata": {},
     "output_type": "execute_result"
    }
   ],
   "source": [
    "#13. How do sets handle duplicate values in Python?\n",
    "'''\n",
    "In Python, sets automatically eliminate duplicate values. When you add elements to a set,\n",
    "only unique values are kept—any duplicates are ignored.\n",
    "'''"
   ]
  },
  {
   "cell_type": "code",
   "execution_count": 106,
   "id": "f3e3455d-9e70-4035-92e8-b085261a162b",
   "metadata": {},
   "outputs": [
    {
     "data": {
      "text/plain": [
       "'\\nIn lists \"in\" keyword checks if a value exists in the list. But in dictionaries \"in\" function\\nchecks if a key exists in the dictionary.\\n'"
      ]
     },
     "execution_count": 106,
     "metadata": {},
     "output_type": "execute_result"
    }
   ],
   "source": [
    "#14. How does the “in” keyword work differently for lists and dictionaries\n",
    "'''\n",
    "In lists \"in\" keyword checks if a value exists in the list. But in dictionaries \"in\" function\n",
    "checks if a key exists in the dictionary.\n",
    "'''\n"
   ]
  },
  {
   "cell_type": "code",
   "execution_count": 108,
   "id": "6357ef4c-c854-49b1-bb98-704b35c86d72",
   "metadata": {},
   "outputs": [
    {
     "data": {
      "text/plain": [
       "'\\nNo, you cannot modify the elements of a tuple because tuples are immutable and have fixed data for security and many reasons.\\n'"
      ]
     },
     "execution_count": 108,
     "metadata": {},
     "output_type": "execute_result"
    }
   ],
   "source": [
    "#15.Can you modify the elements of a tuple? Explain why or why not?\n",
    "'''\n",
    "No, you cannot modify the elements of a tuple because tuples are immutable and have fixed data for security and many reasons.\n",
    "'''"
   ]
  },
  {
   "cell_type": "code",
   "execution_count": 112,
   "id": "117f4eb5-527c-4783-b772-8f65415a8592",
   "metadata": {},
   "outputs": [
    {
     "data": {
      "text/plain": [
       "'\\nA nested dictionary allows to group related data under a common key\\nnested_dict = {\\n    \"user1\": {\"name\": \"Alice\", \"age\": 30},\\n    \"user2\": {\"name\": \"Bob\", \"age\": 25}\\n}\\n'"
      ]
     },
     "execution_count": 112,
     "metadata": {},
     "output_type": "execute_result"
    }
   ],
   "source": [
    "#16.What is a nested dictionary, and give an example of its use case?\n",
    "'''\n",
    "A nested dictionary allows to group related data under a common key\n",
    "nested_dict = {\n",
    "    \"user1\": {\"name\": \"Alice\", \"age\": 30},\n",
    "    \"user2\": {\"name\": \"Bob\", \"age\": 25}\n",
    "}\n",
    "'''\n"
   ]
  },
  {
   "cell_type": "code",
   "execution_count": 116,
   "id": "f68a9e51-adc3-49b7-8a53-35d705ad6df7",
   "metadata": {},
   "outputs": [
    {
     "data": {
      "text/plain": [
       "\"\\nThe time complexity of accessing elements in a dictionary is 0(1) (constant time)\\nDictionaries are implemented using hash tables.\\naccessing an element like my_dict[key] uses the hash of the key to directly locate its value in a memory.\\nThis makes lookups extremely fast -independent of the dictionary's size.\\n\""
      ]
     },
     "execution_count": 116,
     "metadata": {},
     "output_type": "execute_result"
    }
   ],
   "source": [
    "#17. Describe the time complexity of accessing elements in a dictionary.\n",
    "'''\n",
    "The time complexity of accessing elements in a dictionary is 0(1) (constant time)\n",
    "Dictionaries are implemented using hash tables.\n",
    "accessing an element like my_dict[key] uses the hash of the key to directly locate its value in a memory.\n",
    "This makes lookups extremely fast -independent of the dictionary's size.\n",
    "'''"
   ]
  },
  {
   "cell_type": "code",
   "execution_count": 118,
   "id": "826e44c4-9995-49e4-8bf1-84c5ad043c5f",
   "metadata": {},
   "outputs": [
    {
     "data": {
      "text/plain": [
       "'\\nLists are preffered over dictionaries in the following situations:\\na. When order matters \\nb. Data has no meaaningful keys\\nc. Need to maintain a dynamic, indexed collection\\nd. iteration over all items\\n'"
      ]
     },
     "execution_count": 118,
     "metadata": {},
     "output_type": "execute_result"
    }
   ],
   "source": [
    "#18.In what situations are lists preferred over dictionaries?\n",
    "'''\n",
    "Lists are preffered over dictionaries in the following situations:\n",
    "a. When order matters \n",
    "b. Data has no meaaningful keys\n",
    "c. Need to maintain a dynamic, indexed collection\n",
    "d. iteration over all items\n",
    "'''"
   ]
  },
  {
   "cell_type": "code",
   "execution_count": 120,
   "id": "0921f6f8-0ce5-48e1-be94-c47630e80701",
   "metadata": {},
   "outputs": [
    {
     "data": {
      "text/plain": [
       "\"\\nYou can’t reliably access elements by position like you would with a list.\\nDictionary order should not be relied upon for logic (though it's stable in modern Python).\\nDictionaries in python were traditionally considered unordered because they did not preserve the order in which key-value \\npairs were inserted.\\n\""
      ]
     },
     "execution_count": 120,
     "metadata": {},
     "output_type": "execute_result"
    }
   ],
   "source": [
    "#19.Why are dictionaries considered unordered, and how does that affect data retrieval?\n",
    "'''\n",
    "You can’t reliably access elements by position like you would with a list.\n",
    "Dictionary order should not be relied upon for logic (though it's stable in modern Python).\n",
    "Dictionaries in python were traditionally considered unordered because they did not preserve the order in which key-value \n",
    "pairs were inserted.\n",
    "'''\n"
   ]
  },
  {
   "cell_type": "code",
   "execution_count": 124,
   "id": "6cc9b8e8-dfc8-40c3-8d0c-12f0400358e1",
   "metadata": {},
   "outputs": [
    {
     "data": {
      "text/plain": [
       "'\\nLists of are ordered sequences\\nWe access elements by their numeric index(starting from 0)\\nIt is best for sequential data, order-sensitive tasks\\nWhereas dictionaries are unordered mappings(though they preserve insertion order)\\nwe access values using unique keys, not positions.\\n'"
      ]
     },
     "execution_count": 124,
     "metadata": {},
     "output_type": "execute_result"
    }
   ],
   "source": [
    "#20.Explain the difference between a list and a dictionary in terms of data retrieval.\n",
    "'''\n",
    "Lists of are ordered sequences\n",
    "We access elements by their numeric index(starting from 0)\n",
    "It is best for sequential data, order-sensitive tasks\n",
    "Whereas dictionaries are unordered mappings(though they preserve insertion order)\n",
    "we access values using unique keys, not positions.\n",
    "'''\n"
   ]
  },
  {
   "cell_type": "code",
   "execution_count": null,
   "id": "e8ed32d5-8f6c-4e15-9bfc-3dbfe68f9bff",
   "metadata": {},
   "outputs": [],
   "source": []
  }
 ],
 "metadata": {
  "kernelspec": {
   "display_name": "Python [conda env:base] *",
   "language": "python",
   "name": "conda-base-py"
  },
  "language_info": {
   "codemirror_mode": {
    "name": "ipython",
    "version": 3
   },
   "file_extension": ".py",
   "mimetype": "text/x-python",
   "name": "python",
   "nbconvert_exporter": "python",
   "pygments_lexer": "ipython3",
   "version": "3.12.7"
  }
 },
 "nbformat": 4,
 "nbformat_minor": 5
}
